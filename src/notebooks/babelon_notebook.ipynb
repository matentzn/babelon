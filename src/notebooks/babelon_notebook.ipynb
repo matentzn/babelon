{
 "cells": [
  {
   "cell_type": "code",
   "execution_count": 9,
   "metadata": {},
   "outputs": [
    {
     "name": "stdout",
     "output_type": "stream",
     "text": [
      "All\n"
     ]
    }
   ],
   "source": [
    "from oaklib import get_adapter\n",
    "from oaklib.datamodels.vocabulary import IS_A\n",
    "adapter = get_adapter('pronto:hp-base.obo')\n",
    "print(adapter.label(\"HP:0000001\"))"
   ]
  },
  {
   "cell_type": "code",
   "execution_count": 10,
   "metadata": {},
   "outputs": [
    {
     "ename": "KeyboardInterrupt",
     "evalue": "",
     "output_type": "error",
     "traceback": [
      "\u001b[0;31m---------------------------------------------------------------------------\u001b[0m",
      "\u001b[0;31mKeyboardInterrupt\u001b[0m                         Traceback (most recent call last)",
      "Cell \u001b[0;32mIn[10], line 1\u001b[0m\n\u001b[0;32m----> 1\u001b[0m \u001b[38;5;28;01mfor\u001b[39;00m hp \u001b[38;5;129;01min\u001b[39;00m \u001b[43madapter\u001b[49m\u001b[38;5;241;43m.\u001b[39;49m\u001b[43mdescendants\u001b[49m\u001b[43m(\u001b[49m\u001b[38;5;124;43m\"\u001b[39;49m\u001b[38;5;124;43mHP:0000001\u001b[39;49m\u001b[38;5;124;43m\"\u001b[39;49m\u001b[43m,\u001b[49m\u001b[43m \u001b[49m\u001b[43mpredicates\u001b[49m\u001b[38;5;241;43m=\u001b[39;49m\u001b[43m[\u001b[49m\u001b[43mIS_A\u001b[49m\u001b[43m]\u001b[49m\u001b[43m)\u001b[49m:\n\u001b[1;32m      2\u001b[0m     \u001b[38;5;28mprint\u001b[39m(hp, adapter\u001b[38;5;241m.\u001b[39mlabel(hp))\n",
      "File \u001b[0;32m~/.pyenv/versions/3.10.4/envs/oak/lib/python3.10/site-packages/oaklib/interfaces/obograph_interface.py:285\u001b[0m, in \u001b[0;36mOboGraphInterface.descendants\u001b[0;34m(self, start_curies, predicates, reflexive, method)\u001b[0m\n\u001b[1;32m    282\u001b[0m \u001b[38;5;28;01mif\u001b[39;00m method \u001b[38;5;129;01mand\u001b[39;00m method \u001b[38;5;241m==\u001b[39m GraphTraversalMethod\u001b[38;5;241m.\u001b[39mENTAILMENT:\n\u001b[1;32m    283\u001b[0m     \u001b[38;5;28;01mraise\u001b[39;00m \u001b[38;5;167;01mNotImplementedError\u001b[39;00m(\u001b[38;5;124mf\u001b[39m\u001b[38;5;124m\"\u001b[39m\u001b[38;5;124mentailment method not implemented in \u001b[39m\u001b[38;5;132;01m{\u001b[39;00m\u001b[38;5;28mtype\u001b[39m(\u001b[38;5;28mself\u001b[39m)\u001b[38;5;132;01m}\u001b[39;00m\u001b[38;5;124m\"\u001b[39m)\n\u001b[1;32m    284\u001b[0m \u001b[38;5;28;01mreturn\u001b[39;00m _edges_to_nodes(\n\u001b[0;32m--> 285\u001b[0m     start_curies, \u001b[38;5;28;43mself\u001b[39;49m\u001b[38;5;241;43m.\u001b[39;49m\u001b[43mdescendant_graph\u001b[49m\u001b[43m(\u001b[49m\u001b[43mstart_curies\u001b[49m\u001b[43m,\u001b[49m\u001b[43m \u001b[49m\u001b[43mpredicates\u001b[49m\u001b[43m)\u001b[49m\u001b[38;5;241m.\u001b[39medges, reflexive\n\u001b[1;32m    286\u001b[0m )\n",
      "File \u001b[0;32m~/.pyenv/versions/3.10.4/envs/oak/lib/python3.10/site-packages/oaklib/interfaces/obograph_interface.py:229\u001b[0m, in \u001b[0;36mOboGraphInterface.descendant_graph\u001b[0;34m(self, start_curies, predicates)\u001b[0m\n\u001b[1;32m    227\u001b[0m     \u001b[38;5;28;01mif\u001b[39;00m key \u001b[38;5;129;01min\u001b[39;00m \u001b[38;5;28mself\u001b[39m\u001b[38;5;241m.\u001b[39mtransitive_query_cache:\n\u001b[1;32m    228\u001b[0m         \u001b[38;5;28;01mreturn\u001b[39;00m \u001b[38;5;28mself\u001b[39m\u001b[38;5;241m.\u001b[39mtransitive_query_cache[key]\n\u001b[0;32m--> 229\u001b[0m g \u001b[38;5;241m=\u001b[39m \u001b[38;5;28;43mself\u001b[39;49m\u001b[38;5;241;43m.\u001b[39;49m\u001b[43m_graph\u001b[49m\u001b[43m(\u001b[49m\u001b[43mwalk_down\u001b[49m\u001b[43m(\u001b[49m\u001b[38;5;28;43mself\u001b[39;49m\u001b[43m,\u001b[49m\u001b[43m \u001b[49m\u001b[43mstart_curies\u001b[49m\u001b[43m,\u001b[49m\u001b[43m \u001b[49m\u001b[43mpredicates\u001b[49m\u001b[38;5;241;43m=\u001b[39;49m\u001b[43mpredicates\u001b[49m\u001b[43m)\u001b[49m\u001b[43m)\u001b[49m\n\u001b[1;32m    230\u001b[0m \u001b[38;5;28;01mif\u001b[39;00m \u001b[38;5;28mself\u001b[39m\u001b[38;5;241m.\u001b[39mtransitive_query_cache \u001b[38;5;129;01mis\u001b[39;00m \u001b[38;5;129;01mnot\u001b[39;00m \u001b[38;5;28;01mNone\u001b[39;00m:\n\u001b[1;32m    231\u001b[0m     \u001b[38;5;28mself\u001b[39m\u001b[38;5;241m.\u001b[39mtransitive_query_cache[key] \u001b[38;5;241m=\u001b[39m g\n",
      "File \u001b[0;32m~/.pyenv/versions/3.10.4/envs/oak/lib/python3.10/site-packages/oaklib/interfaces/obograph_interface.py:167\u001b[0m, in \u001b[0;36mOboGraphInterface._graph\u001b[0;34m(self, triples)\u001b[0m\n\u001b[1;32m    165\u001b[0m node_map: Dict[\u001b[38;5;28mstr\u001b[39m, Node] \u001b[38;5;241m=\u001b[39m {}\n\u001b[1;32m    166\u001b[0m edges \u001b[38;5;241m=\u001b[39m []\n\u001b[0;32m--> 167\u001b[0m \u001b[38;5;28;01mfor\u001b[39;00m s, p, o \u001b[38;5;129;01min\u001b[39;00m triples:\n\u001b[1;32m    168\u001b[0m     \u001b[38;5;28;01mif\u001b[39;00m s \u001b[38;5;129;01mnot\u001b[39;00m \u001b[38;5;129;01min\u001b[39;00m node_map:\n\u001b[1;32m    169\u001b[0m         node_map[s] \u001b[38;5;241m=\u001b[39m \u001b[38;5;28mself\u001b[39m\u001b[38;5;241m.\u001b[39mnode(s)\n",
      "File \u001b[0;32m~/.pyenv/versions/3.10.4/envs/oak/lib/python3.10/site-packages/oaklib/utilities/graph/relationship_walker.py:81\u001b[0m, in \u001b[0;36mwalk_down\u001b[0;34m(oi, start_curies, predicates)\u001b[0m\n\u001b[1;32m     79\u001b[0m \u001b[38;5;28;01mwhile\u001b[39;00m \u001b[38;5;28mlen\u001b[39m(next_curies) \u001b[38;5;241m>\u001b[39m \u001b[38;5;241m0\u001b[39m:\n\u001b[1;32m     80\u001b[0m     next_curie \u001b[38;5;241m=\u001b[39m next_curies\u001b[38;5;241m.\u001b[39mpop()\n\u001b[0;32m---> 81\u001b[0m     \u001b[38;5;28;01mfor\u001b[39;00m pred, subjects \u001b[38;5;129;01min\u001b[39;00m \u001b[43moi\u001b[49m\u001b[38;5;241;43m.\u001b[39;49m\u001b[43mincoming_relationship_map\u001b[49m\u001b[43m(\u001b[49m\u001b[43mnext_curie\u001b[49m\u001b[43m)\u001b[49m\u001b[38;5;241m.\u001b[39mitems():\n\u001b[1;32m     82\u001b[0m         \u001b[38;5;28;01mif\u001b[39;00m \u001b[38;5;129;01mnot\u001b[39;00m predicates \u001b[38;5;129;01mor\u001b[39;00m pred \u001b[38;5;129;01min\u001b[39;00m predicates:\n\u001b[1;32m     83\u001b[0m             \u001b[38;5;28;01mfor\u001b[39;00m subject \u001b[38;5;129;01min\u001b[39;00m subjects:\n",
      "File \u001b[0;32m~/.pyenv/versions/3.10.4/envs/oak/lib/python3.10/site-packages/oaklib/interfaces/basic_ontology_interface.py:1143\u001b[0m, in \u001b[0;36mBasicOntologyInterface.incoming_relationship_map\u001b[0;34m(self, curie)\u001b[0m\n\u001b[1;32m   1134\u001b[0m \u001b[38;5;28;01mdef\u001b[39;00m \u001b[38;5;21mincoming_relationship_map\u001b[39m(\u001b[38;5;28mself\u001b[39m, curie: CURIE) \u001b[38;5;241m-\u001b[39m\u001b[38;5;241m>\u001b[39m RELATIONSHIP_MAP:\n\u001b[1;32m   1135\u001b[0m \u001b[38;5;250m    \u001b[39m\u001b[38;5;124;03m\"\"\"\u001b[39;00m\n\u001b[1;32m   1136\u001b[0m \u001b[38;5;124;03m    Returns a predicate-subjects map with incoming relationships for a node.\u001b[39;00m\n\u001b[1;32m   1137\u001b[0m \n\u001b[0;32m   (...)\u001b[0m\n\u001b[1;32m   1141\u001b[0m \u001b[38;5;124;03m    :return:\u001b[39;00m\n\u001b[1;32m   1142\u001b[0m \u001b[38;5;124;03m    \"\"\"\u001b[39;00m\n\u001b[0;32m-> 1143\u001b[0m     \u001b[38;5;28;01mreturn\u001b[39;00m pairs_as_dict([(p, s) \u001b[38;5;28;01mfor\u001b[39;00m s, p, _ \u001b[38;5;129;01min\u001b[39;00m \u001b[38;5;28mself\u001b[39m\u001b[38;5;241m.\u001b[39mrelationships(objects\u001b[38;5;241m=\u001b[39m[curie])])\n",
      "File \u001b[0;32m~/.pyenv/versions/3.10.4/envs/oak/lib/python3.10/site-packages/oaklib/interfaces/basic_ontology_interface.py:1143\u001b[0m, in \u001b[0;36m<listcomp>\u001b[0;34m(.0)\u001b[0m\n\u001b[1;32m   1134\u001b[0m \u001b[38;5;28;01mdef\u001b[39;00m \u001b[38;5;21mincoming_relationship_map\u001b[39m(\u001b[38;5;28mself\u001b[39m, curie: CURIE) \u001b[38;5;241m-\u001b[39m\u001b[38;5;241m>\u001b[39m RELATIONSHIP_MAP:\n\u001b[1;32m   1135\u001b[0m \u001b[38;5;250m    \u001b[39m\u001b[38;5;124;03m\"\"\"\u001b[39;00m\n\u001b[1;32m   1136\u001b[0m \u001b[38;5;124;03m    Returns a predicate-subjects map with incoming relationships for a node.\u001b[39;00m\n\u001b[1;32m   1137\u001b[0m \n\u001b[0;32m   (...)\u001b[0m\n\u001b[1;32m   1141\u001b[0m \u001b[38;5;124;03m    :return:\u001b[39;00m\n\u001b[1;32m   1142\u001b[0m \u001b[38;5;124;03m    \"\"\"\u001b[39;00m\n\u001b[0;32m-> 1143\u001b[0m     \u001b[38;5;28;01mreturn\u001b[39;00m pairs_as_dict([(p, s) \u001b[38;5;28;01mfor\u001b[39;00m s, p, _ \u001b[38;5;129;01min\u001b[39;00m \u001b[38;5;28mself\u001b[39m\u001b[38;5;241m.\u001b[39mrelationships(objects\u001b[38;5;241m=\u001b[39m[curie])])\n",
      "File \u001b[0;32m~/.pyenv/versions/3.10.4/envs/oak/lib/python3.10/site-packages/oaklib/implementations/pronto/pronto_implementation.py:418\u001b[0m, in \u001b[0;36mProntoImplementation.relationships\u001b[0;34m(self, subjects, predicates, objects, include_tbox, include_abox, include_entailed, exclude_blank)\u001b[0m\n\u001b[1;32m    416\u001b[0m \u001b[38;5;28;01mfor\u001b[39;00m s2, p, o \u001b[38;5;129;01min\u001b[39;00m \u001b[38;5;28mself\u001b[39m\u001b[38;5;241m.\u001b[39m_relationship_index[s]:\n\u001b[1;32m    417\u001b[0m     \u001b[38;5;28;01mif\u001b[39;00m s2 \u001b[38;5;241m==\u001b[39m s:\n\u001b[0;32m--> 418\u001b[0m         \u001b[38;5;28;01mif\u001b[39;00m predicates \u001b[38;5;129;01mis\u001b[39;00m \u001b[38;5;129;01mnot\u001b[39;00m \u001b[38;5;28;01mNone\u001b[39;00m \u001b[38;5;129;01mand\u001b[39;00m p \u001b[38;5;129;01mnot\u001b[39;00m \u001b[38;5;129;01min\u001b[39;00m predicates:\n\u001b[1;32m    419\u001b[0m             \u001b[38;5;28;01mcontinue\u001b[39;00m\n\u001b[1;32m    420\u001b[0m         \u001b[38;5;28;01mif\u001b[39;00m objects \u001b[38;5;129;01mis\u001b[39;00m \u001b[38;5;129;01mnot\u001b[39;00m \u001b[38;5;28;01mNone\u001b[39;00m \u001b[38;5;129;01mand\u001b[39;00m o \u001b[38;5;129;01mnot\u001b[39;00m \u001b[38;5;129;01min\u001b[39;00m objects:\n",
      "\u001b[0;31mKeyboardInterrupt\u001b[0m: "
     ]
    }
   ],
   "source": [
    "for hp in adapter.descendants(\"HP:0000001\", predicates=[IS_A]):\n",
    "    print(hp, adapter.label(hp))"
   ]
  },
  {
   "cell_type": "code",
   "execution_count": null,
   "metadata": {},
   "outputs": [],
   "source": []
  }
 ],
 "metadata": {
  "kernelspec": {
   "display_name": "Python 3 (ipykernel)",
   "language": "python",
   "name": "python3"
  },
  "language_info": {
   "codemirror_mode": {
    "name": "ipython",
    "version": 3
   },
   "file_extension": ".py",
   "mimetype": "text/x-python",
   "name": "python",
   "nbconvert_exporter": "python",
   "pygments_lexer": "ipython3",
   "version": "3.10.4"
  }
 },
 "nbformat": 4,
 "nbformat_minor": 4
}
